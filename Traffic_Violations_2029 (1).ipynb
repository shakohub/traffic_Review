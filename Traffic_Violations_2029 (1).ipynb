{
 "cells": [
  {
   "cell_type": "code",
   "execution_count": 1,
   "metadata": {},
   "outputs": [],
   "source": [
    "import pandas as pd\n",
    "import numpy as np\n",
    "import matplotlib.pyplot as plt\n",
    "\n",
    "%matplotlib inline"
   ]
  },
  {
   "cell_type": "code",
   "execution_count": 2,
   "metadata": {},
   "outputs": [],
   "source": [
    "timestamp = '2018-01-15 3:45pm'"
   ]
  },
  {
   "cell_type": "code",
   "execution_count": 3,
   "metadata": {},
   "outputs": [
    {
     "data": {
      "text/plain": [
       "Timestamp('2018-01-15 15:45:00')"
      ]
     },
     "execution_count": 3,
     "metadata": {},
     "output_type": "execute_result"
    }
   ],
   "source": [
    "pd.to_datetime(timestamp)"
   ]
  },
  {
   "cell_type": "code",
   "execution_count": 4,
   "metadata": {},
   "outputs": [],
   "source": [
    "date = '03/04/2019'"
   ]
  },
  {
   "cell_type": "code",
   "execution_count": 5,
   "metadata": {},
   "outputs": [
    {
     "data": {
      "text/plain": [
       "Timestamp('2019-04-03 00:00:00')"
      ]
     },
     "execution_count": 5,
     "metadata": {},
     "output_type": "execute_result"
    }
   ],
   "source": [
    "pd.to_datetime(date, dayfirst=True)"
   ]
  },
  {
   "cell_type": "code",
   "execution_count": 6,
   "metadata": {},
   "outputs": [
    {
     "data": {
      "text/html": [
       "<div>\n",
       "<style scoped>\n",
       "    .dataframe tbody tr th:only-of-type {\n",
       "        vertical-align: middle;\n",
       "    }\n",
       "\n",
       "    .dataframe tbody tr th {\n",
       "        vertical-align: top;\n",
       "    }\n",
       "\n",
       "    .dataframe thead th {\n",
       "        text-align: right;\n",
       "    }\n",
       "</style>\n",
       "<table border=\"1\" class=\"dataframe\">\n",
       "  <thead>\n",
       "    <tr style=\"text-align: right;\">\n",
       "      <th></th>\n",
       "      <th>date</th>\n",
       "      <th>prices</th>\n",
       "    </tr>\n",
       "  </thead>\n",
       "  <tbody>\n",
       "    <tr>\n",
       "      <td>0</td>\n",
       "      <td>07-04-2014</td>\n",
       "      <td>125</td>\n",
       "    </tr>\n",
       "    <tr>\n",
       "      <td>1</td>\n",
       "      <td>08-04-2014</td>\n",
       "      <td>372</td>\n",
       "    </tr>\n",
       "    <tr>\n",
       "      <td>2</td>\n",
       "      <td>07-04-2015</td>\n",
       "      <td>94</td>\n",
       "    </tr>\n",
       "    <tr>\n",
       "      <td>3</td>\n",
       "      <td>08-04-2015</td>\n",
       "      <td>537</td>\n",
       "    </tr>\n",
       "  </tbody>\n",
       "</table>\n",
       "</div>"
      ],
      "text/plain": [
       "         date  prices\n",
       "0  07-04-2014     125\n",
       "1  08-04-2014     372\n",
       "2  07-04-2015      94\n",
       "3  08-04-2015     537"
      ]
     },
     "execution_count": 6,
     "metadata": {},
     "output_type": "execute_result"
    }
   ],
   "source": [
    "dates = ['07-04-2014', '08-04-2014','07-04-2015', '08-04-2015']\n",
    "prices = [125, 372, 94, 537]\n",
    "dateslist = list(zip(dates, prices))\n",
    "\n",
    "df = pd.DataFrame(data=dateslist, columns=['date', 'prices'])\n",
    "df"
   ]
  },
  {
   "cell_type": "code",
   "execution_count": 7,
   "metadata": {},
   "outputs": [
    {
     "data": {
      "text/plain": [
       "date      object\n",
       "prices     int64\n",
       "dtype: object"
      ]
     },
     "execution_count": 7,
     "metadata": {},
     "output_type": "execute_result"
    }
   ],
   "source": [
    "df.dtypes"
   ]
  },
  {
   "cell_type": "code",
   "execution_count": 8,
   "metadata": {},
   "outputs": [],
   "source": [
    "df['date'] = pd.to_datetime(df['date'], format='%m-%d-%Y')"
   ]
  },
  {
   "cell_type": "code",
   "execution_count": 9,
   "metadata": {},
   "outputs": [
    {
     "data": {
      "text/plain": [
       "date      datetime64[ns]\n",
       "prices             int64\n",
       "dtype: object"
      ]
     },
     "execution_count": 9,
     "metadata": {},
     "output_type": "execute_result"
    }
   ],
   "source": [
    "df.dtypes"
   ]
  },
  {
   "cell_type": "code",
   "execution_count": 10,
   "metadata": {},
   "outputs": [
    {
     "data": {
      "text/html": [
       "<div>\n",
       "<style scoped>\n",
       "    .dataframe tbody tr th:only-of-type {\n",
       "        vertical-align: middle;\n",
       "    }\n",
       "\n",
       "    .dataframe tbody tr th {\n",
       "        vertical-align: top;\n",
       "    }\n",
       "\n",
       "    .dataframe thead th {\n",
       "        text-align: right;\n",
       "    }\n",
       "</style>\n",
       "<table border=\"1\" class=\"dataframe\">\n",
       "  <thead>\n",
       "    <tr style=\"text-align: right;\">\n",
       "      <th></th>\n",
       "      <th>date</th>\n",
       "      <th>prices</th>\n",
       "    </tr>\n",
       "  </thead>\n",
       "  <tbody>\n",
       "    <tr>\n",
       "      <td>0</td>\n",
       "      <td>2014-07-04</td>\n",
       "      <td>125</td>\n",
       "    </tr>\n",
       "    <tr>\n",
       "      <td>1</td>\n",
       "      <td>2014-08-04</td>\n",
       "      <td>372</td>\n",
       "    </tr>\n",
       "    <tr>\n",
       "      <td>2</td>\n",
       "      <td>2015-07-04</td>\n",
       "      <td>94</td>\n",
       "    </tr>\n",
       "    <tr>\n",
       "      <td>3</td>\n",
       "      <td>2015-08-04</td>\n",
       "      <td>537</td>\n",
       "    </tr>\n",
       "  </tbody>\n",
       "</table>\n",
       "</div>"
      ],
      "text/plain": [
       "        date  prices\n",
       "0 2014-07-04     125\n",
       "1 2014-08-04     372\n",
       "2 2015-07-04      94\n",
       "3 2015-08-04     537"
      ]
     },
     "execution_count": 10,
     "metadata": {},
     "output_type": "execute_result"
    }
   ],
   "source": [
    "df"
   ]
  },
  {
   "cell_type": "code",
   "execution_count": 11,
   "metadata": {},
   "outputs": [
    {
     "data": {
      "text/html": [
       "<div>\n",
       "<style scoped>\n",
       "    .dataframe tbody tr th:only-of-type {\n",
       "        vertical-align: middle;\n",
       "    }\n",
       "\n",
       "    .dataframe tbody tr th {\n",
       "        vertical-align: top;\n",
       "    }\n",
       "\n",
       "    .dataframe thead th {\n",
       "        text-align: right;\n",
       "    }\n",
       "</style>\n",
       "<table border=\"1\" class=\"dataframe\">\n",
       "  <thead>\n",
       "    <tr style=\"text-align: right;\">\n",
       "      <th></th>\n",
       "      <th>date</th>\n",
       "      <th>prices</th>\n",
       "      <th>month</th>\n",
       "    </tr>\n",
       "  </thead>\n",
       "  <tbody>\n",
       "    <tr>\n",
       "      <td>0</td>\n",
       "      <td>2014-07-04</td>\n",
       "      <td>125</td>\n",
       "      <td>July</td>\n",
       "    </tr>\n",
       "    <tr>\n",
       "      <td>1</td>\n",
       "      <td>2014-08-04</td>\n",
       "      <td>372</td>\n",
       "      <td>August</td>\n",
       "    </tr>\n",
       "    <tr>\n",
       "      <td>2</td>\n",
       "      <td>2015-07-04</td>\n",
       "      <td>94</td>\n",
       "      <td>July</td>\n",
       "    </tr>\n",
       "    <tr>\n",
       "      <td>3</td>\n",
       "      <td>2015-08-04</td>\n",
       "      <td>537</td>\n",
       "      <td>August</td>\n",
       "    </tr>\n",
       "  </tbody>\n",
       "</table>\n",
       "</div>"
      ],
      "text/plain": [
       "        date  prices   month\n",
       "0 2014-07-04     125    July\n",
       "1 2014-08-04     372  August\n",
       "2 2015-07-04      94    July\n",
       "3 2015-08-04     537  August"
      ]
     },
     "execution_count": 11,
     "metadata": {},
     "output_type": "execute_result"
    }
   ],
   "source": [
    "df['month'] = df['date'].dt.month_name()\n",
    "df"
   ]
  },
  {
   "cell_type": "code",
   "execution_count": 12,
   "metadata": {},
   "outputs": [
    {
     "data": {
      "text/html": [
       "<div>\n",
       "<style scoped>\n",
       "    .dataframe tbody tr th:only-of-type {\n",
       "        vertical-align: middle;\n",
       "    }\n",
       "\n",
       "    .dataframe tbody tr th {\n",
       "        vertical-align: top;\n",
       "    }\n",
       "\n",
       "    .dataframe thead th {\n",
       "        text-align: right;\n",
       "    }\n",
       "</style>\n",
       "<table border=\"1\" class=\"dataframe\">\n",
       "  <thead>\n",
       "    <tr style=\"text-align: right;\">\n",
       "      <th></th>\n",
       "      <th>date</th>\n",
       "      <th>prices</th>\n",
       "      <th>month</th>\n",
       "      <th>weekday</th>\n",
       "    </tr>\n",
       "  </thead>\n",
       "  <tbody>\n",
       "    <tr>\n",
       "      <td>0</td>\n",
       "      <td>2014-07-04</td>\n",
       "      <td>125</td>\n",
       "      <td>July</td>\n",
       "      <td>Friday</td>\n",
       "    </tr>\n",
       "    <tr>\n",
       "      <td>1</td>\n",
       "      <td>2014-08-04</td>\n",
       "      <td>372</td>\n",
       "      <td>August</td>\n",
       "      <td>Monday</td>\n",
       "    </tr>\n",
       "    <tr>\n",
       "      <td>2</td>\n",
       "      <td>2015-07-04</td>\n",
       "      <td>94</td>\n",
       "      <td>July</td>\n",
       "      <td>Saturday</td>\n",
       "    </tr>\n",
       "    <tr>\n",
       "      <td>3</td>\n",
       "      <td>2015-08-04</td>\n",
       "      <td>537</td>\n",
       "      <td>August</td>\n",
       "      <td>Tuesday</td>\n",
       "    </tr>\n",
       "  </tbody>\n",
       "</table>\n",
       "</div>"
      ],
      "text/plain": [
       "        date  prices   month   weekday\n",
       "0 2014-07-04     125    July    Friday\n",
       "1 2014-08-04     372  August    Monday\n",
       "2 2015-07-04      94    July  Saturday\n",
       "3 2015-08-04     537  August   Tuesday"
      ]
     },
     "execution_count": 12,
     "metadata": {},
     "output_type": "execute_result"
    }
   ],
   "source": [
    "df['weekday'] = df['date'].dt.day_name()\n",
    "df"
   ]
  },
  {
   "cell_type": "code",
   "execution_count": 14,
   "metadata": {},
   "outputs": [
    {
     "data": {
      "text/html": [
       "<div>\n",
       "<style scoped>\n",
       "    .dataframe tbody tr th:only-of-type {\n",
       "        vertical-align: middle;\n",
       "    }\n",
       "\n",
       "    .dataframe tbody tr th {\n",
       "        vertical-align: top;\n",
       "    }\n",
       "\n",
       "    .dataframe thead th {\n",
       "        text-align: right;\n",
       "    }\n",
       "</style>\n",
       "<table border=\"1\" class=\"dataframe\">\n",
       "  <thead>\n",
       "    <tr style=\"text-align: right;\">\n",
       "      <th></th>\n",
       "      <th>Date Of Stop</th>\n",
       "      <th>Time Of Stop</th>\n",
       "      <th>Latitude</th>\n",
       "      <th>Longitude</th>\n",
       "    </tr>\n",
       "    <tr>\n",
       "      <th>Date</th>\n",
       "      <th></th>\n",
       "      <th></th>\n",
       "      <th></th>\n",
       "      <th></th>\n",
       "    </tr>\n",
       "  </thead>\n",
       "  <tbody>\n",
       "    <tr>\n",
       "      <td>2019-07-30 22:15:00</td>\n",
       "      <td>7/30/2019</td>\n",
       "      <td>22:15:00</td>\n",
       "      <td>38.990102</td>\n",
       "      <td>-77.151645</td>\n",
       "    </tr>\n",
       "    <tr>\n",
       "      <td>2019-07-07 22:54:00</td>\n",
       "      <td>7/7/2019</td>\n",
       "      <td>22:54:00</td>\n",
       "      <td>39.040360</td>\n",
       "      <td>-77.051137</td>\n",
       "    </tr>\n",
       "    <tr>\n",
       "      <td>2019-07-10 16:00:00</td>\n",
       "      <td>7/10/2019</td>\n",
       "      <td>16:00:00</td>\n",
       "      <td>0.000000</td>\n",
       "      <td>0.000000</td>\n",
       "    </tr>\n",
       "    <tr>\n",
       "      <td>2019-08-15 22:42:00</td>\n",
       "      <td>8/15/2019</td>\n",
       "      <td>22:42:00</td>\n",
       "      <td>38.997645</td>\n",
       "      <td>-77.096600</td>\n",
       "    </tr>\n",
       "    <tr>\n",
       "      <td>2019-04-15 05:49:00</td>\n",
       "      <td>4/15/2019</td>\n",
       "      <td>5:49:00</td>\n",
       "      <td>0.000000</td>\n",
       "      <td>0.000000</td>\n",
       "    </tr>\n",
       "  </tbody>\n",
       "</table>\n",
       "</div>"
      ],
      "text/plain": [
       "                    Date Of Stop Time Of Stop   Latitude  Longitude\n",
       "Date                                                               \n",
       "2019-07-30 22:15:00    7/30/2019     22:15:00  38.990102 -77.151645\n",
       "2019-07-07 22:54:00     7/7/2019     22:54:00  39.040360 -77.051137\n",
       "2019-07-10 16:00:00    7/10/2019     16:00:00   0.000000   0.000000\n",
       "2019-08-15 22:42:00    8/15/2019     22:42:00  38.997645 -77.096600\n",
       "2019-04-15 05:49:00    4/15/2019      5:49:00   0.000000   0.000000"
      ]
     },
     "execution_count": 14,
     "metadata": {},
     "output_type": "execute_result"
    }
   ],
   "source": [
    "df = pd.read_csv('traffic_2019.csv', index_col=\"Date\", parse_dates=True)\n",
    "df.head()"
   ]
  },
  {
   "cell_type": "code",
   "execution_count": 15,
   "metadata": {},
   "outputs": [],
   "source": [
    "\n",
    "#make dates the index\n",
    "#format dates as we load the data\n",
    "df= df.drop([\"Date Of Stop\",\"Time Of Stop\"],axis=1)"
   ]
  },
  {
   "cell_type": "code",
   "execution_count": 16,
   "metadata": {},
   "outputs": [
    {
     "data": {
      "text/html": [
       "<div>\n",
       "<style scoped>\n",
       "    .dataframe tbody tr th:only-of-type {\n",
       "        vertical-align: middle;\n",
       "    }\n",
       "\n",
       "    .dataframe tbody tr th {\n",
       "        vertical-align: top;\n",
       "    }\n",
       "\n",
       "    .dataframe thead th {\n",
       "        text-align: right;\n",
       "    }\n",
       "</style>\n",
       "<table border=\"1\" class=\"dataframe\">\n",
       "  <thead>\n",
       "    <tr style=\"text-align: right;\">\n",
       "      <th></th>\n",
       "      <th>Latitude</th>\n",
       "      <th>Longitude</th>\n",
       "    </tr>\n",
       "    <tr>\n",
       "      <th>Date</th>\n",
       "      <th></th>\n",
       "      <th></th>\n",
       "    </tr>\n",
       "  </thead>\n",
       "  <tbody>\n",
       "    <tr>\n",
       "      <td>2019-07-30 22:15:00</td>\n",
       "      <td>38.990102</td>\n",
       "      <td>-77.151645</td>\n",
       "    </tr>\n",
       "    <tr>\n",
       "      <td>2019-07-07 22:54:00</td>\n",
       "      <td>39.040360</td>\n",
       "      <td>-77.051137</td>\n",
       "    </tr>\n",
       "    <tr>\n",
       "      <td>2019-07-10 16:00:00</td>\n",
       "      <td>0.000000</td>\n",
       "      <td>0.000000</td>\n",
       "    </tr>\n",
       "    <tr>\n",
       "      <td>2019-08-15 22:42:00</td>\n",
       "      <td>38.997645</td>\n",
       "      <td>-77.096600</td>\n",
       "    </tr>\n",
       "    <tr>\n",
       "      <td>2019-04-15 05:49:00</td>\n",
       "      <td>0.000000</td>\n",
       "      <td>0.000000</td>\n",
       "    </tr>\n",
       "  </tbody>\n",
       "</table>\n",
       "</div>"
      ],
      "text/plain": [
       "                      Latitude  Longitude\n",
       "Date                                     \n",
       "2019-07-30 22:15:00  38.990102 -77.151645\n",
       "2019-07-07 22:54:00  39.040360 -77.051137\n",
       "2019-07-10 16:00:00   0.000000   0.000000\n",
       "2019-08-15 22:42:00  38.997645 -77.096600\n",
       "2019-04-15 05:49:00   0.000000   0.000000"
      ]
     },
     "execution_count": 16,
     "metadata": {},
     "output_type": "execute_result"
    }
   ],
   "source": [
    "df.head()"
   ]
  },
  {
   "cell_type": "code",
   "execution_count": 17,
   "metadata": {},
   "outputs": [
    {
     "data": {
      "text/html": [
       "<div>\n",
       "<style scoped>\n",
       "    .dataframe tbody tr th:only-of-type {\n",
       "        vertical-align: middle;\n",
       "    }\n",
       "\n",
       "    .dataframe tbody tr th {\n",
       "        vertical-align: top;\n",
       "    }\n",
       "\n",
       "    .dataframe thead th {\n",
       "        text-align: right;\n",
       "    }\n",
       "</style>\n",
       "<table border=\"1\" class=\"dataframe\">\n",
       "  <thead>\n",
       "    <tr style=\"text-align: right;\">\n",
       "      <th></th>\n",
       "      <th>Latitude</th>\n",
       "      <th>Longitude</th>\n",
       "    </tr>\n",
       "  </thead>\n",
       "  <tbody>\n",
       "    <tr>\n",
       "      <td>count</td>\n",
       "      <td>188589.000000</td>\n",
       "      <td>188589.000000</td>\n",
       "    </tr>\n",
       "    <tr>\n",
       "      <td>mean</td>\n",
       "      <td>36.626630</td>\n",
       "      <td>-72.276967</td>\n",
       "    </tr>\n",
       "    <tr>\n",
       "      <td>std</td>\n",
       "      <td>9.478230</td>\n",
       "      <td>18.703562</td>\n",
       "    </tr>\n",
       "    <tr>\n",
       "      <td>min</td>\n",
       "      <td>0.000000</td>\n",
       "      <td>-77.901133</td>\n",
       "    </tr>\n",
       "    <tr>\n",
       "      <td>25%</td>\n",
       "      <td>39.013263</td>\n",
       "      <td>-77.189402</td>\n",
       "    </tr>\n",
       "    <tr>\n",
       "      <td>50%</td>\n",
       "      <td>39.058392</td>\n",
       "      <td>-77.097133</td>\n",
       "    </tr>\n",
       "    <tr>\n",
       "      <td>75%</td>\n",
       "      <td>39.129660</td>\n",
       "      <td>-77.031830</td>\n",
       "    </tr>\n",
       "    <tr>\n",
       "      <td>max</td>\n",
       "      <td>39.544888</td>\n",
       "      <td>0.016667</td>\n",
       "    </tr>\n",
       "  </tbody>\n",
       "</table>\n",
       "</div>"
      ],
      "text/plain": [
       "            Latitude      Longitude\n",
       "count  188589.000000  188589.000000\n",
       "mean       36.626630     -72.276967\n",
       "std         9.478230      18.703562\n",
       "min         0.000000     -77.901133\n",
       "25%        39.013263     -77.189402\n",
       "50%        39.058392     -77.097133\n",
       "75%        39.129660     -77.031830\n",
       "max        39.544888       0.016667"
      ]
     },
     "execution_count": 17,
     "metadata": {},
     "output_type": "execute_result"
    }
   ],
   "source": [
    "df.describe()"
   ]
  },
  {
   "cell_type": "code",
   "execution_count": 18,
   "metadata": {},
   "outputs": [],
   "source": [
    "#rename columns with shorter name\n",
    "#create a new column 'Total' with combined values of latitude and longitude columns\n",
    "\n",
    "df.columns = ['Latitude', 'Longitude']\n",
    "df['Total'] = df.eval('Latitude + Longitude')\n"
   ]
  },
  {
   "cell_type": "code",
   "execution_count": 19,
   "metadata": {},
   "outputs": [
    {
     "data": {
      "text/html": [
       "<div>\n",
       "<style scoped>\n",
       "    .dataframe tbody tr th:only-of-type {\n",
       "        vertical-align: middle;\n",
       "    }\n",
       "\n",
       "    .dataframe tbody tr th {\n",
       "        vertical-align: top;\n",
       "    }\n",
       "\n",
       "    .dataframe thead th {\n",
       "        text-align: right;\n",
       "    }\n",
       "</style>\n",
       "<table border=\"1\" class=\"dataframe\">\n",
       "  <thead>\n",
       "    <tr style=\"text-align: right;\">\n",
       "      <th></th>\n",
       "      <th>Latitude</th>\n",
       "      <th>Longitude</th>\n",
       "      <th>Total</th>\n",
       "    </tr>\n",
       "    <tr>\n",
       "      <th>Date</th>\n",
       "      <th></th>\n",
       "      <th></th>\n",
       "      <th></th>\n",
       "    </tr>\n",
       "  </thead>\n",
       "  <tbody>\n",
       "    <tr>\n",
       "      <td>2019-07-30 22:15:00</td>\n",
       "      <td>38.990102</td>\n",
       "      <td>-77.151645</td>\n",
       "      <td>-38.161543</td>\n",
       "    </tr>\n",
       "    <tr>\n",
       "      <td>2019-07-07 22:54:00</td>\n",
       "      <td>39.040360</td>\n",
       "      <td>-77.051137</td>\n",
       "      <td>-38.010777</td>\n",
       "    </tr>\n",
       "    <tr>\n",
       "      <td>2019-07-10 16:00:00</td>\n",
       "      <td>0.000000</td>\n",
       "      <td>0.000000</td>\n",
       "      <td>0.000000</td>\n",
       "    </tr>\n",
       "    <tr>\n",
       "      <td>2019-08-15 22:42:00</td>\n",
       "      <td>38.997645</td>\n",
       "      <td>-77.096600</td>\n",
       "      <td>-38.098955</td>\n",
       "    </tr>\n",
       "    <tr>\n",
       "      <td>2019-04-15 05:49:00</td>\n",
       "      <td>0.000000</td>\n",
       "      <td>0.000000</td>\n",
       "      <td>0.000000</td>\n",
       "    </tr>\n",
       "  </tbody>\n",
       "</table>\n",
       "</div>"
      ],
      "text/plain": [
       "                      Latitude  Longitude      Total\n",
       "Date                                                \n",
       "2019-07-30 22:15:00  38.990102 -77.151645 -38.161543\n",
       "2019-07-07 22:54:00  39.040360 -77.051137 -38.010777\n",
       "2019-07-10 16:00:00   0.000000   0.000000   0.000000\n",
       "2019-08-15 22:42:00  38.997645 -77.096600 -38.098955\n",
       "2019-04-15 05:49:00   0.000000   0.000000   0.000000"
      ]
     },
     "execution_count": 19,
     "metadata": {},
     "output_type": "execute_result"
    }
   ],
   "source": [
    "df.head()"
   ]
  },
  {
   "cell_type": "code",
   "execution_count": 20,
   "metadata": {},
   "outputs": [
    {
     "data": {
      "text/plain": [
       "Text(0, 0.5, 'Hourly Violation Count')"
      ]
     },
     "execution_count": 20,
     "metadata": {},
     "output_type": "execute_result"
    },
    {
     "data": {
      "image/png": "[encoded data removed]",
      "text/plain": [
       "<Figure size 432x288 with 1 Axes>"
      ]
     },
     "metadata": {
      "needs_background": "light"
     },
     "output_type": "display_data"
    }
   ],
   "source": [
    "#bar plot of data\n",
    "df.plot()\n",
    "plt.ylabel('Hourly Violation Count')"
   ]
  },
  {
   "cell_type": "code",
   "execution_count": 32,
   "metadata": {},
   "outputs": [
    {
     "data": {
      "text/html": [
       "<div>\n",
       "<style scoped>\n",
       "    .dataframe tbody tr th:only-of-type {\n",
       "        vertical-align: middle;\n",
       "    }\n",
       "\n",
       "    .dataframe tbody tr th {\n",
       "        vertical-align: top;\n",
       "    }\n",
       "\n",
       "    .dataframe thead th {\n",
       "        text-align: right;\n",
       "    }\n",
       "</style>\n",
       "<table border=\"1\" class=\"dataframe\">\n",
       "  <thead>\n",
       "    <tr style=\"text-align: right;\">\n",
       "      <th></th>\n",
       "      <th>Latitude</th>\n",
       "      <th>Longitude</th>\n",
       "      <th>Total</th>\n",
       "    </tr>\n",
       "    <tr>\n",
       "      <th>Date</th>\n",
       "      <th></th>\n",
       "      <th></th>\n",
       "      <th></th>\n",
       "    </tr>\n",
       "  </thead>\n",
       "  <tbody>\n",
       "    <tr>\n",
       "      <td>2019-01-06</td>\n",
       "      <td>140025.667558</td>\n",
       "      <td>-276299.195427</td>\n",
       "      <td>-136273.527869</td>\n",
       "    </tr>\n",
       "    <tr>\n",
       "      <td>2019-01-13</td>\n",
       "      <td>139200.976916</td>\n",
       "      <td>-274632.764454</td>\n",
       "      <td>-135431.787538</td>\n",
       "    </tr>\n",
       "    <tr>\n",
       "      <td>2019-01-20</td>\n",
       "      <td>107573.040338</td>\n",
       "      <td>-212233.069735</td>\n",
       "      <td>-104660.029397</td>\n",
       "    </tr>\n",
       "    <tr>\n",
       "      <td>2019-01-27</td>\n",
       "      <td>151038.963809</td>\n",
       "      <td>-298012.451349</td>\n",
       "      <td>-146973.487540</td>\n",
       "    </tr>\n",
       "    <tr>\n",
       "      <td>2019-02-03</td>\n",
       "      <td>117162.297013</td>\n",
       "      <td>-231204.148611</td>\n",
       "      <td>-114041.851598</td>\n",
       "    </tr>\n",
       "  </tbody>\n",
       "</table>\n",
       "</div>"
      ],
      "text/plain": [
       "                 Latitude      Longitude          Total\n",
       "Date                                                   \n",
       "2019-01-06  140025.667558 -276299.195427 -136273.527869\n",
       "2019-01-13  139200.976916 -274632.764454 -135431.787538\n",
       "2019-01-20  107573.040338 -212233.069735 -104660.029397\n",
       "2019-01-27  151038.963809 -298012.451349 -146973.487540\n",
       "2019-02-03  117162.297013 -231204.148611 -114041.851598"
      ]
     },
     "execution_count": 32,
     "metadata": {},
     "output_type": "execute_result"
    }
   ],
   "source": [
    "#hourly intervals are too narrow to make sense of data\n",
    "#aggregate as weekly data instead\n",
    "weekly = df.resample('W').sum()\n",
    "weekly.head()"
   ]
  },
  {
   "cell_type": "code",
   "execution_count": 33,
   "metadata": {},
   "outputs": [
    {
     "data": {
      "text/html": [
       "<div>\n",
       "<style scoped>\n",
       "    .dataframe tbody tr th:only-of-type {\n",
       "        vertical-align: middle;\n",
       "    }\n",
       "\n",
       "    .dataframe tbody tr th {\n",
       "        vertical-align: top;\n",
       "    }\n",
       "\n",
       "    .dataframe thead th {\n",
       "        text-align: right;\n",
       "    }\n",
       "</style>\n",
       "<table border=\"1\" class=\"dataframe\">\n",
       "  <thead>\n",
       "    <tr style=\"text-align: right;\">\n",
       "      <th></th>\n",
       "      <th>Latitude</th>\n",
       "      <th>Longitude</th>\n",
       "      <th>Total</th>\n",
       "    </tr>\n",
       "    <tr>\n",
       "      <th>Date</th>\n",
       "      <th></th>\n",
       "      <th></th>\n",
       "      <th></th>\n",
       "    </tr>\n",
       "  </thead>\n",
       "  <tbody>\n",
       "    <tr>\n",
       "      <td>2019-01-06</td>\n",
       "      <td>140025.667558</td>\n",
       "      <td>-276299.195427</td>\n",
       "      <td>-136273.527869</td>\n",
       "    </tr>\n",
       "    <tr>\n",
       "      <td>2019-01-13</td>\n",
       "      <td>139200.976916</td>\n",
       "      <td>-274632.764454</td>\n",
       "      <td>-135431.787538</td>\n",
       "    </tr>\n",
       "    <tr>\n",
       "      <td>2019-01-20</td>\n",
       "      <td>107573.040338</td>\n",
       "      <td>-212233.069735</td>\n",
       "      <td>-104660.029397</td>\n",
       "    </tr>\n",
       "    <tr>\n",
       "      <td>2019-01-27</td>\n",
       "      <td>151038.963809</td>\n",
       "      <td>-298012.451349</td>\n",
       "      <td>-146973.487540</td>\n",
       "    </tr>\n",
       "    <tr>\n",
       "      <td>2019-02-03</td>\n",
       "      <td>117162.297013</td>\n",
       "      <td>-231204.148611</td>\n",
       "      <td>-114041.851598</td>\n",
       "    </tr>\n",
       "  </tbody>\n",
       "</table>\n",
       "</div>"
      ],
      "text/plain": [
       "                 Latitude      Longitude          Total\n",
       "Date                                                   \n",
       "2019-01-06  140025.667558 -276299.195427 -136273.527869\n",
       "2019-01-13  139200.976916 -274632.764454 -135431.787538\n",
       "2019-01-20  107573.040338 -212233.069735 -104660.029397\n",
       "2019-01-27  151038.963809 -298012.451349 -146973.487540\n",
       "2019-02-03  117162.297013 -231204.148611 -114041.851598"
      ]
     },
     "execution_count": 33,
     "metadata": {},
     "output_type": "execute_result"
    }
   ],
   "source": [
    "weekly = df.resample('W').sum()\n",
    "weekly.head()"
   ]
  },
  {
   "cell_type": "code",
   "execution_count": 43,
   "metadata": {},
   "outputs": [
    {
     "data": {
      "text/plain": [
       "Text(0, 0.5, 'Weekly Violation Count')"
      ]
     },
     "execution_count": 43,
     "metadata": {},
     "output_type": "execute_result"
    },
    {
     "data": {
      "image/png": "[encoded data removed]",
      "text/plain": [
       "<Figure size 432x288 with 1 Axes>"
      ]
     },
     "metadata": {
      "needs_background": "light"
     },
     "output_type": "display_data"
    }
   ],
   "source": [
    "# plot data by week\n",
    "weekly.plot(style=[':', '--', '-']) #line styles for each feature\n",
    "plt.ylabel('Weekly Violation Count')"
   ]
  },
  {
   "cell_type": "code",
   "execution_count": 35,
   "metadata": {},
   "outputs": [
    {
     "data": {
      "text/html": [
       "<div>\n",
       "<style scoped>\n",
       "    .dataframe tbody tr th:only-of-type {\n",
       "        vertical-align: middle;\n",
       "    }\n",
       "\n",
       "    .dataframe tbody tr th {\n",
       "        vertical-align: top;\n",
       "    }\n",
       "\n",
       "    .dataframe thead th {\n",
       "        text-align: right;\n",
       "    }\n",
       "</style>\n",
       "<table border=\"1\" class=\"dataframe\">\n",
       "  <thead>\n",
       "    <tr style=\"text-align: right;\">\n",
       "      <th></th>\n",
       "      <th>Latitude</th>\n",
       "      <th>Longitude</th>\n",
       "      <th>Total</th>\n",
       "    </tr>\n",
       "  </thead>\n",
       "  <tbody>\n",
       "    <tr>\n",
       "      <td>00:00:00</td>\n",
       "      <td>37.697043</td>\n",
       "      <td>-74.398025</td>\n",
       "      <td>-36.700982</td>\n",
       "    </tr>\n",
       "    <tr>\n",
       "      <td>00:01:00</td>\n",
       "      <td>34.880927</td>\n",
       "      <td>-68.796967</td>\n",
       "      <td>-33.916041</td>\n",
       "    </tr>\n",
       "    <tr>\n",
       "      <td>00:02:00</td>\n",
       "      <td>36.500705</td>\n",
       "      <td>-72.042123</td>\n",
       "      <td>-35.541418</td>\n",
       "    </tr>\n",
       "    <tr>\n",
       "      <td>00:03:00</td>\n",
       "      <td>37.377259</td>\n",
       "      <td>-73.761154</td>\n",
       "      <td>-36.383895</td>\n",
       "    </tr>\n",
       "    <tr>\n",
       "      <td>00:04:00</td>\n",
       "      <td>35.514179</td>\n",
       "      <td>-70.104501</td>\n",
       "      <td>-34.590322</td>\n",
       "    </tr>\n",
       "    <tr>\n",
       "      <td>...</td>\n",
       "      <td>...</td>\n",
       "      <td>...</td>\n",
       "      <td>...</td>\n",
       "    </tr>\n",
       "    <tr>\n",
       "      <td>23:55:00</td>\n",
       "      <td>38.093464</td>\n",
       "      <td>-75.169542</td>\n",
       "      <td>-37.076079</td>\n",
       "    </tr>\n",
       "    <tr>\n",
       "      <td>23:56:00</td>\n",
       "      <td>37.202817</td>\n",
       "      <td>-73.412587</td>\n",
       "      <td>-36.209769</td>\n",
       "    </tr>\n",
       "    <tr>\n",
       "      <td>23:57:00</td>\n",
       "      <td>36.722165</td>\n",
       "      <td>-72.455135</td>\n",
       "      <td>-35.732969</td>\n",
       "    </tr>\n",
       "    <tr>\n",
       "      <td>23:58:00</td>\n",
       "      <td>37.332562</td>\n",
       "      <td>-73.680217</td>\n",
       "      <td>-36.347655</td>\n",
       "    </tr>\n",
       "    <tr>\n",
       "      <td>23:59:00</td>\n",
       "      <td>37.042494</td>\n",
       "      <td>-73.111962</td>\n",
       "      <td>-36.069469</td>\n",
       "    </tr>\n",
       "  </tbody>\n",
       "</table>\n",
       "<p>1440 rows × 3 columns</p>\n",
       "</div>"
      ],
      "text/plain": [
       "           Latitude  Longitude      Total\n",
       "00:00:00  37.697043 -74.398025 -36.700982\n",
       "00:01:00  34.880927 -68.796967 -33.916041\n",
       "00:02:00  36.500705 -72.042123 -35.541418\n",
       "00:03:00  37.377259 -73.761154 -36.383895\n",
       "00:04:00  35.514179 -70.104501 -34.590322\n",
       "...             ...        ...        ...\n",
       "23:55:00  38.093464 -75.169542 -37.076079\n",
       "23:56:00  37.202817 -73.412587 -36.209769\n",
       "23:57:00  36.722165 -72.455135 -35.732969\n",
       "23:58:00  37.332562 -73.680217 -36.347655\n",
       "23:59:00  37.042494 -73.111962 -36.069469\n",
       "\n",
       "[1440 rows x 3 columns]"
      ]
     },
     "execution_count": 35,
     "metadata": {},
     "output_type": "execute_result"
    }
   ],
   "source": [
    "#see what an average day looks like\n",
    "by_time = df.groupby(df.index.time).mean()\n",
    "by_time"
   ]
  },
  {
   "cell_type": "code",
   "execution_count": 36,
   "metadata": {},
   "outputs": [
    {
     "data": {
      "text/plain": [
       "<matplotlib.axes._subplots.AxesSubplot at 0xdf8419e808>"
      ]
     },
     "execution_count": 36,
     "metadata": {},
     "output_type": "execute_result"
    },
    {
     "data": {
      "image/png": "[encoded data removed]",
      "text/plain": [
       "<Figure size 432x288 with 1 Axes>"
      ]
     },
     "metadata": {
      "needs_background": "light"
     },
     "output_type": "display_data"
    }
   ],
   "source": [
    "# create less cluttered tick markers for graph\n",
    "hourly_ticks = 4*60*60*np.arange(6) #6 intervals of 4 hours\n",
    "by_time.plot(xticks=hourly_ticks, style=[':','--','-'])"
   ]
  },
  {
   "cell_type": "code",
   "execution_count": 37,
   "metadata": {},
   "outputs": [
    {
     "data": {
      "text/html": [
       "<div>\n",
       "<style scoped>\n",
       "    .dataframe tbody tr th:only-of-type {\n",
       "        vertical-align: middle;\n",
       "    }\n",
       "\n",
       "    .dataframe tbody tr th {\n",
       "        vertical-align: top;\n",
       "    }\n",
       "\n",
       "    .dataframe thead th {\n",
       "        text-align: right;\n",
       "    }\n",
       "</style>\n",
       "<table border=\"1\" class=\"dataframe\">\n",
       "  <thead>\n",
       "    <tr style=\"text-align: right;\">\n",
       "      <th></th>\n",
       "      <th>Latitude</th>\n",
       "      <th>Longitude</th>\n",
       "      <th>Total</th>\n",
       "    </tr>\n",
       "  </thead>\n",
       "  <tbody>\n",
       "    <tr>\n",
       "      <td>Mon</td>\n",
       "      <td>36.732337</td>\n",
       "      <td>-72.486479</td>\n",
       "      <td>-35.754142</td>\n",
       "    </tr>\n",
       "    <tr>\n",
       "      <td>Tue</td>\n",
       "      <td>36.974017</td>\n",
       "      <td>-72.969866</td>\n",
       "      <td>-35.995849</td>\n",
       "    </tr>\n",
       "    <tr>\n",
       "      <td>Wed</td>\n",
       "      <td>36.865267</td>\n",
       "      <td>-72.745140</td>\n",
       "      <td>-35.879873</td>\n",
       "    </tr>\n",
       "    <tr>\n",
       "      <td>Thur</td>\n",
       "      <td>36.499581</td>\n",
       "      <td>-72.025802</td>\n",
       "      <td>-35.526222</td>\n",
       "    </tr>\n",
       "    <tr>\n",
       "      <td>Fri</td>\n",
       "      <td>36.404618</td>\n",
       "      <td>-71.835379</td>\n",
       "      <td>-35.430761</td>\n",
       "    </tr>\n",
       "    <tr>\n",
       "      <td>Sat</td>\n",
       "      <td>36.387325</td>\n",
       "      <td>-71.801003</td>\n",
       "      <td>-35.413677</td>\n",
       "    </tr>\n",
       "    <tr>\n",
       "      <td>Sun</td>\n",
       "      <td>36.191397</td>\n",
       "      <td>-71.416527</td>\n",
       "      <td>-35.225130</td>\n",
       "    </tr>\n",
       "  </tbody>\n",
       "</table>\n",
       "</div>"
      ],
      "text/plain": [
       "       Latitude  Longitude      Total\n",
       "Mon   36.732337 -72.486479 -35.754142\n",
       "Tue   36.974017 -72.969866 -35.995849\n",
       "Wed   36.865267 -72.745140 -35.879873\n",
       "Thur  36.499581 -72.025802 -35.526222\n",
       "Fri   36.404618 -71.835379 -35.430761\n",
       "Sat   36.387325 -71.801003 -35.413677\n",
       "Sun   36.191397 -71.416527 -35.225130"
      ]
     },
     "execution_count": 37,
     "metadata": {},
     "output_type": "execute_result"
    }
   ],
   "source": [
    "#What does traffic usage look like by day of the week?\n",
    "by_weekday = df.groupby(df.index.dayofweek).mean()\n",
    "by_weekday.index = ['Mon', 'Tue', 'Wed', 'Thur', 'Fri', 'Sat', 'Sun']\n",
    "\n",
    "by_weekday"
   ]
  },
  {
   "cell_type": "code",
   "execution_count": 38,
   "metadata": {},
   "outputs": [
    {
     "data": {
      "text/plain": [
       "<matplotlib.axes._subplots.AxesSubplot at 0xdf84283348>"
      ]
     },
     "execution_count": 38,
     "metadata": {},
     "output_type": "execute_result"
    },
    {
     "data": {
      "image/png": "[encoded data removed]",
      "text/plain": [
       "<Figure size 432x288 with 1 Axes>"
      ]
     },
     "metadata": {
      "needs_background": "light"
     },
     "output_type": "display_data"
    }
   ],
   "source": [
    "by_weekday.plot(style=[':','--','-'])"
   ]
  },
  {
   "cell_type": "code",
   "execution_count": 39,
   "metadata": {},
   "outputs": [
    {
     "data": {
      "text/plain": [
       "array(['Weekday', 'Weekend', 'Weekday', ..., 'Weekday', 'Weekday',\n",
       "       'Weekend'], dtype='<U7')"
      ]
     },
     "execution_count": 39,
     "metadata": {},
     "output_type": "execute_result"
    }
   ],
   "source": [
    "#set conditions to show hourly trend on weekdays vs weekends\n",
    "weekend = np.where(df.index.weekday < 5, 'Weekday', 'Weekend')\n",
    "weekend"
   ]
  },
  {
   "cell_type": "code",
   "execution_count": 41,
   "metadata": {},
   "outputs": [
    {
     "data": {
      "text/html": [
       "<div>\n",
       "<style scoped>\n",
       "    .dataframe tbody tr th:only-of-type {\n",
       "        vertical-align: middle;\n",
       "    }\n",
       "\n",
       "    .dataframe tbody tr th {\n",
       "        vertical-align: top;\n",
       "    }\n",
       "\n",
       "    .dataframe thead th {\n",
       "        text-align: right;\n",
       "    }\n",
       "</style>\n",
       "<table border=\"1\" class=\"dataframe\">\n",
       "  <thead>\n",
       "    <tr style=\"text-align: right;\">\n",
       "      <th></th>\n",
       "      <th></th>\n",
       "      <th>Latitude</th>\n",
       "      <th>Longitude</th>\n",
       "      <th>Total</th>\n",
       "    </tr>\n",
       "  </thead>\n",
       "  <tbody>\n",
       "    <tr>\n",
       "      <td rowspan=\"5\" valign=\"top\">Weekday</td>\n",
       "      <td>00:00:00</td>\n",
       "      <td>37.642910</td>\n",
       "      <td>-74.297866</td>\n",
       "      <td>-36.654956</td>\n",
       "    </tr>\n",
       "    <tr>\n",
       "      <td>00:01:00</td>\n",
       "      <td>35.227014</td>\n",
       "      <td>-69.513384</td>\n",
       "      <td>-34.286370</td>\n",
       "    </tr>\n",
       "    <tr>\n",
       "      <td>00:02:00</td>\n",
       "      <td>35.019241</td>\n",
       "      <td>-69.116715</td>\n",
       "      <td>-34.097474</td>\n",
       "    </tr>\n",
       "    <tr>\n",
       "      <td>00:03:00</td>\n",
       "      <td>38.535382</td>\n",
       "      <td>-76.034070</td>\n",
       "      <td>-37.498688</td>\n",
       "    </tr>\n",
       "    <tr>\n",
       "      <td>00:04:00</td>\n",
       "      <td>36.246928</td>\n",
       "      <td>-71.555230</td>\n",
       "      <td>-35.308302</td>\n",
       "    </tr>\n",
       "    <tr>\n",
       "      <td>...</td>\n",
       "      <td>...</td>\n",
       "      <td>...</td>\n",
       "      <td>...</td>\n",
       "      <td>...</td>\n",
       "    </tr>\n",
       "    <tr>\n",
       "      <td rowspan=\"5\" valign=\"top\">Weekend</td>\n",
       "      <td>23:55:00</td>\n",
       "      <td>37.697189</td>\n",
       "      <td>-74.373774</td>\n",
       "      <td>-36.676585</td>\n",
       "    </tr>\n",
       "    <tr>\n",
       "      <td>23:56:00</td>\n",
       "      <td>38.189970</td>\n",
       "      <td>-75.391929</td>\n",
       "      <td>-37.201959</td>\n",
       "    </tr>\n",
       "    <tr>\n",
       "      <td>23:57:00</td>\n",
       "      <td>35.533773</td>\n",
       "      <td>-70.101393</td>\n",
       "      <td>-34.567620</td>\n",
       "    </tr>\n",
       "    <tr>\n",
       "      <td>23:58:00</td>\n",
       "      <td>38.009671</td>\n",
       "      <td>-75.034620</td>\n",
       "      <td>-37.024949</td>\n",
       "    </tr>\n",
       "    <tr>\n",
       "      <td>23:59:00</td>\n",
       "      <td>39.042094</td>\n",
       "      <td>-77.061691</td>\n",
       "      <td>-38.019596</td>\n",
       "    </tr>\n",
       "  </tbody>\n",
       "</table>\n",
       "<p>2873 rows × 3 columns</p>\n",
       "</div>"
      ],
      "text/plain": [
       "                   Latitude  Longitude      Total\n",
       "Weekday 00:00:00  37.642910 -74.297866 -36.654956\n",
       "        00:01:00  35.227014 -69.513384 -34.286370\n",
       "        00:02:00  35.019241 -69.116715 -34.097474\n",
       "        00:03:00  38.535382 -76.034070 -37.498688\n",
       "        00:04:00  36.246928 -71.555230 -35.308302\n",
       "...                     ...        ...        ...\n",
       "Weekend 23:55:00  37.697189 -74.373774 -36.676585\n",
       "        23:56:00  38.189970 -75.391929 -37.201959\n",
       "        23:57:00  35.533773 -70.101393 -34.567620\n",
       "        23:58:00  38.009671 -75.034620 -37.024949\n",
       "        23:59:00  39.042094 -77.061691 -38.019596\n",
       "\n",
       "[2873 rows x 3 columns]"
      ]
     },
     "execution_count": 41,
     "metadata": {},
     "output_type": "execute_result"
    }
   ],
   "source": [
    "by_weektime = df.groupby([weekend, df.index.time]).mean()\n",
    "by_weektime"
   ]
  },
  {
   "cell_type": "code",
   "execution_count": 42,
   "metadata": {},
   "outputs": [
    {
     "data": {
      "text/plain": [
       "<matplotlib.axes._subplots.AxesSubplot at 0xdf84416688>"
      ]
     },
     "execution_count": 42,
     "metadata": {},
     "output_type": "execute_result"
    },
    {
     "data": {
      "image/png": "[encoded data removed]",
      "text/plain": [
       "<Figure size 1008x360 with 2 Axes>"
      ]
     },
     "metadata": {
      "needs_background": "light"
     },
     "output_type": "display_data"
    }
   ],
   "source": [
    "fig, ax = plt.subplots(1, 2, figsize=(14, 5))\n",
    "by_weektime.loc['Weekday'].plot(ax=ax[0], title='Weekdays',\n",
    "                           xticks=hourly_ticks, style=[':', '--', '-'])\n",
    "\n",
    "by_weektime.loc['Weekend'].plot(ax=ax[1], title='Weekends',\n",
    "                           xticks=hourly_ticks, style=[':', '--', '-'])"
   ]
  },
  {
   "cell_type": "code",
   "execution_count": null,
   "metadata": {},
   "outputs": [],
   "source": []
  }
 ],
 "metadata": {
  "kernelspec": {
   "display_name": "Python 3",
   "language": "python",
   "name": "python3"
  },
  "language_info": {
   "codemirror_mode": {
    "name": "ipython",
    "version": 3
   },
   "file_extension": ".py",
   "mimetype": "text/x-python",
   "name": "python",
   "nbconvert_exporter": "python",
   "pygments_lexer": "ipython3",
   "version": "3.7.4"
  }
 },
 "nbformat": 4,
 "nbformat_minor": 2
}
